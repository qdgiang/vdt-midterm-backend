{
 "cells": [
  {
   "cell_type": "code",
   "execution_count": 1,
   "metadata": {},
   "outputs": [],
   "source": [
    "import pandas as pd"
   ]
  },
  {
   "cell_type": "code",
   "execution_count": 2,
   "metadata": {},
   "outputs": [],
   "source": [
    "df = pd.read_csv('vdt_list.csv')\n"
   ]
  },
  {
   "cell_type": "code",
   "execution_count": 3,
   "metadata": {},
   "outputs": [
    {
     "name": "stdout",
     "output_type": "stream",
     "text": [
      "Index(['STT', 'Tên', 'Họ', 'Tên đệm', 'Họ và tên', 'Năm', 'Email', 'SĐT',\n",
      "       'Giới tính', 'Trường', 'Quốc gia'],\n",
      "      dtype='object')\n"
     ]
    }
   ],
   "source": [
    "print(df.columns)"
   ]
  },
  {
   "cell_type": "code",
   "execution_count": 4,
   "metadata": {},
   "outputs": [],
   "source": [
    "df = df[[\"Họ và tên\", \"Giới tính\", \"Email\", \"SĐT\", \"Trường\"]]"
   ]
  },
  {
   "cell_type": "code",
   "execution_count": 5,
   "metadata": {},
   "outputs": [
    {
     "name": "stdout",
     "output_type": "stream",
     "text": [
      "              Họ và tên Giới tính                           Email  \\\n",
      "0      Lê Minh Việt Anh       Nam          anh.lmv.bkhn@gmail.com   \n",
      "1       Phạm Quang Bách       Nam              blu11235@gmail.com   \n",
      "2          Hoàng Bá Bảo       Nam            bachdtm169@gmail.com   \n",
      "3       Phạm Minh Cường       Nam             20020098@vnu.edu.vn   \n",
      "4         Trương Văn Độ       Nam       truongvando1910@gmail.com   \n",
      "5       Hoàng Việt Dũng       Nam            bungnud113@gmail.com   \n",
      "6        Bùi Hoàng Dũng       Nam            dung9d32k2@gmail.com   \n",
      "7        Bùi Trọng Dũng       Nam    bui123456trongdung@gmail.com   \n",
      "8       Trần Thùy Dương        Nữ   tranthuyduonghy2003@gmail.com   \n",
      "9      Quach Dang Giang       Nam       giang.dangquach@gmail.com   \n",
      "10      Nguyễn Thanh Hà       Nam      captainnemot1k60@gmail.com   \n",
      "11        Nguyễn Thu Hà        Nữ      nguyenthuhat1k60@gmail.com   \n",
      "12          Cù Xuân Hải       Nam           xuanhai2708@gmail.com   \n",
      "13    Nguyễn Trung Hiếu       Nam         hieu.nt230603@gmail.com   \n",
      "14      Đặng Việt Hoàng       Nam             beetit338@gmail.com   \n",
      "15      Nguyễn Văn Hùng       Nam            hungnv.itb@gmail.com   \n",
      "16     Nguyễn Quốc Hưng       Nam            nothung209@gmail.com   \n",
      "17        Lê Minh Hương        Nữ            lmhuong711@gmail.com   \n",
      "18         Ngo Dang Huy       Nam             ngohuy658@gmail.com   \n",
      "19       Trần Quang Huy       Nam        quanghuy1604nd@gmail.com   \n",
      "20      Trần Minh Huyền        Nữ           huyen.cnh70@gmail.com   \n",
      "21  Nguyễn Đôn Thế Kiệt       Nam  viettel.strixthekiet@gmail.com   \n",
      "22      Lê Hoàng Trường       Nam            natibatian@gmail.com   \n",
      "23        Đào Quang Lợi       Nam              loidao99@gmail.com   \n",
      "24     Nguyễn Tiến Long       Nam          tienlong1106@gmail.com   \n",
      "25    Nguyen Quang Long       Nam          long.nq.hust@gmail.com   \n",
      "26  Nguyễn Thị Ngọc Mai        Nữ             maintn124@gmail.com   \n",
      "27        Đỗ Dương Mạnh       Nam            domanhitmo@gmail.com   \n",
      "28     Nguyễn Ngọc Minh       Nam           minh.itptit@gmail.com   \n",
      "29           Vũ Thế Nam       Nam        vuthenam.9.3.4@gmail.com   \n",
      "30        Ngô Công Bằng       Nam      ngocongbang.ptit@gmail.com   \n",
      "31      Nguyễn Huy Thái       Nam       nguyenhuythai15@gmail.com   \n",
      "32     Phan Khôi Nguyên       Nam        khoinguyen6103@gmail.com   \n",
      "33      Đinh Việt Quang       Nam     vietquang16012003@gmail.com   \n",
      "34     Nguyễn Chí Thành       Nam       caitendenhonhat@gmail.com   \n",
      "35     Nguyễn Đình Tiến       Nam    tiennguyen14122003@gmail.com   \n",
      "36         Đỗ Thu Trang        Nữ       thutrang25062k4@gmail.com   \n",
      "37     Nguyễn Thị Mỹ Tú        Nữ         jasmine150720@gmail.com   \n",
      "38    Nguyễn Quang Tuấn       Nam       quangtuanitmo18@gmail.com   \n",
      "39      Hoàng Minh Tuấn       Nam              tibanh03@gmail.com   \n",
      "40       Phạm Mạnh Tuấn       Nam               7upnamk@gmail.com   \n",
      "41       Bùi Hoàng Vinh       Nam         hoangvinh1577@gmail.com   \n",
      "\n",
      "            SĐT                                             Trường  \n",
      "0     394305264                           Đại học Bách Khoa Hà Nội  \n",
      "1     866859929                                      VinUniversity  \n",
      "2     983155487                           Đại học Bách Khoa Hà Nội  \n",
      "3     967809494        Đại học Công nghệ - Đại học Quốc gia Hà Nội  \n",
      "4     963047046        Đại học Công nghệ - Đại học Quốc gia Hà Nội  \n",
      "5     969698093                                    ITMO University  \n",
      "6     981268318                           Đại học Bách Khoa Hà Nội  \n",
      "7     931115699                           Đại học Bách Khoa Hà Nội  \n",
      "8     376065504        Đại học Công nghệ - Đại học Quốc gia Hà Nội  \n",
      "9     356886876  Đại học Công nghệ Thông tin – Đại học Quốc gia...  \n",
      "10    967571913                           Đại học Bách Khoa Hà Nội  \n",
      "11    858925333                           Đại học Bách Khoa Hà Nội  \n",
      "12  79052735920                                    ITMO University  \n",
      "13    869347311                           Đại học Bách Khoa Hà Nội  \n",
      "14    866803327                           Đại học Bách Khoa Hà Nội  \n",
      "15    395334342                           Đại học Bách Khoa Hà Nội  \n",
      "16    982947213                           Đại học Bách Khoa Hà Nội  \n",
      "17    327182139        Đại học Công nghệ - Đại học Quốc gia Hà Nội  \n",
      "18    343473387        Đại học Công nghệ - Đại học Quốc gia Hà Nội  \n",
      "19    904845743            Học viện Công Nghệ Bưu Chính Viễn Thông  \n",
      "20    865776220                           Đại học Bách Khoa Hà Nội  \n",
      "21    867288725                                      VinUniversity  \n",
      "22   9118984336                                    ITMO University  \n",
      "23    934829614                           Đại học Bách Khoa Hà Nội  \n",
      "24  79967695589                                    ITMO University  \n",
      "25    869174722                           Đại học Bách Khoa Hà Nội  \n",
      "26    969918109        Đại học Công nghệ - Đại học Quốc gia Hà Nội  \n",
      "27    987779370                                    ITMO University  \n",
      "28    337191138            Học viện Công Nghệ Bưu Chính Viễn Thông  \n",
      "29   9637070997        Đại học Công nghệ - Đại học Quốc gia Hà Nội  \n",
      "30    963340608            Học viện Công Nghệ Bưu Chính Viễn Thông  \n",
      "31    946590882        Đại học Công nghệ - Đại học Quốc gia Hà Nội  \n",
      "32    941777898                           Đại học Bách Khoa Hà Nội  \n",
      "33    869963453                           Đại học Bách Khoa Hà Nội  \n",
      "34    833144638                           Đại học Bách Khoa Hà Nội  \n",
      "35    866920919                           Đại học Bách Khoa Hà Nội  \n",
      "36    328663946        Đại học Công nghệ - Đại học Quốc gia Hà Nội  \n",
      "37  79219430456                                    ITMO University  \n",
      "38  79533626795                                    ITMO University  \n",
      "39    328511409            Học viện Công Nghệ Bưu Chính Viễn Thông  \n",
      "40   9219430423                                    ITMO University  \n",
      "41    946902235            Học viện Công Nghệ Bưu Chính Viễn Thông  \n"
     ]
    }
   ],
   "source": [
    "print(df)"
   ]
  },
  {
   "cell_type": "code",
   "execution_count": 7,
   "metadata": {},
   "outputs": [],
   "source": [
    "df.columns = [\"name\", \"gender\", \"email\", \"phone\", \"university\"] "
   ]
  },
  {
   "cell_type": "code",
   "execution_count": 8,
   "metadata": {},
   "outputs": [
    {
     "name": "stdout",
     "output_type": "stream",
     "text": [
      "               name gender                      email      phone  \\\n",
      "0  Lê Minh Việt Anh    Nam     anh.lmv.bkhn@gmail.com  394305264   \n",
      "1   Phạm Quang Bách    Nam         blu11235@gmail.com  866859929   \n",
      "2      Hoàng Bá Bảo    Nam       bachdtm169@gmail.com  983155487   \n",
      "3   Phạm Minh Cường    Nam        20020098@vnu.edu.vn  967809494   \n",
      "4     Trương Văn Độ    Nam  truongvando1910@gmail.com  963047046   \n",
      "\n",
      "                                    university  \n",
      "0                     Đại học Bách Khoa Hà Nội  \n",
      "1                                VinUniversity  \n",
      "2                     Đại học Bách Khoa Hà Nội  \n",
      "3  Đại học Công nghệ - Đại học Quốc gia Hà Nội  \n",
      "4  Đại học Công nghệ - Đại học Quốc gia Hà Nội  \n"
     ]
    }
   ],
   "source": [
    "print(df.head())"
   ]
  },
  {
   "cell_type": "code",
   "execution_count": 9,
   "metadata": {},
   "outputs": [],
   "source": [
    "df.to_csv('vdt_list_cleaned.csv', index=False)"
   ]
  }
 ],
 "metadata": {
  "kernelspec": {
   "display_name": "airflow",
   "language": "python",
   "name": "python3"
  },
  "language_info": {
   "codemirror_mode": {
    "name": "ipython",
    "version": 3
   },
   "file_extension": ".py",
   "mimetype": "text/x-python",
   "name": "python",
   "nbconvert_exporter": "python",
   "pygments_lexer": "ipython3",
   "version": "3.10.14"
  }
 },
 "nbformat": 4,
 "nbformat_minor": 2
}
