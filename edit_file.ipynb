{
 "cells": [
  {
   "cell_type": "code",
   "execution_count": 17,
   "metadata": {},
   "outputs": [],
   "source": [
    "import pandas as pd"
   ]
  },
  {
   "cell_type": "code",
   "execution_count": 18,
   "metadata": {},
   "outputs": [],
   "source": [
    "df = pd.read_csv('vdt_list.csv')\n"
   ]
  },
  {
   "cell_type": "code",
   "execution_count": 19,
   "metadata": {},
   "outputs": [
    {
     "name": "stdout",
     "output_type": "stream",
     "text": [
      "Index(['STT', 'Tên', 'Họ', 'Tên đệm', 'Họ và tên', 'Năm', 'Email', 'SĐT',\n",
      "       'Giới tính', 'Trường', 'Quốc gia'],\n",
      "      dtype='object')\n"
     ]
    }
   ],
   "source": [
    "print(df.columns)"
   ]
  },
  {
   "cell_type": "code",
   "execution_count": 20,
   "metadata": {},
   "outputs": [],
   "source": [
    "df = df[[\"Họ và tên\", \"Giới tính\", \"Trường\"]]"
   ]
  },
  {
   "cell_type": "code",
   "execution_count": 21,
   "metadata": {},
   "outputs": [
    {
     "name": "stdout",
     "output_type": "stream",
     "text": [
      "              Họ và tên Giới tính  \\\n",
      "0      Lê Minh Việt Anh       Nam   \n",
      "1       Phạm Quang Bách       Nam   \n",
      "2          Hoàng Bá Bảo       Nam   \n",
      "3       Phạm Minh Cường       Nam   \n",
      "4         Trương Văn Độ       Nam   \n",
      "5       Hoàng Việt Dũng       Nam   \n",
      "6        Bùi Hoàng Dũng       Nam   \n",
      "7        Bùi Trọng Dũng       Nam   \n",
      "8       Trần Thùy Dương        Nữ   \n",
      "9      Quach Dang Giang       Nam   \n",
      "10      Nguyễn Thanh Hà       Nam   \n",
      "11        Nguyễn Thu Hà        Nữ   \n",
      "12          Cù Xuân Hải       Nam   \n",
      "13    Nguyễn Trung Hiếu       Nam   \n",
      "14      Đặng Việt Hoàng       Nam   \n",
      "15      Nguyễn Văn Hùng       Nam   \n",
      "16     Nguyễn Quốc Hưng       Nam   \n",
      "17        Lê Minh Hương        Nữ   \n",
      "18         Ngo Dang Huy       Nam   \n",
      "19       Trần Quang Huy       Nam   \n",
      "20      Trần Minh Huyền        Nữ   \n",
      "21  Nguyễn Đôn Thế Kiệt       Nam   \n",
      "22      Lê Hoàng Trường       Nam   \n",
      "23        Đào Quang Lợi       Nam   \n",
      "24     Nguyễn Tiến Long       Nam   \n",
      "25    Nguyen Quang Long       Nam   \n",
      "26  Nguyễn Thị Ngọc Mai        Nữ   \n",
      "27        Đỗ Dương Mạnh       Nam   \n",
      "28     Nguyễn Ngọc Minh       Nam   \n",
      "29           Vũ Thế Nam       Nam   \n",
      "30        Ngô Công Bằng       Nam   \n",
      "31      Nguyễn Huy Thái       Nam   \n",
      "32     Phan Khôi Nguyên       Nam   \n",
      "33      Đinh Việt Quang       Nam   \n",
      "34     Nguyễn Chí Thành       Nam   \n",
      "35     Nguyễn Đình Tiến       Nam   \n",
      "36         Đỗ Thu Trang        Nữ   \n",
      "37     Nguyễn Thị Mỹ Tú        Nữ   \n",
      "38    Nguyễn Quang Tuấn       Nam   \n",
      "39      Hoàng Minh Tuấn       Nam   \n",
      "40       Phạm Mạnh Tuấn       Nam   \n",
      "41       Bùi Hoàng Vinh       Nam   \n",
      "\n",
      "                                               Trường  \n",
      "0                            Đại học Bách Khoa Hà Nội  \n",
      "1                                       VinUniversity  \n",
      "2                            Đại học Bách Khoa Hà Nội  \n",
      "3         Đại học Công nghệ - Đại học Quốc gia Hà Nội  \n",
      "4         Đại học Công nghệ - Đại học Quốc gia Hà Nội  \n",
      "5                                     ITMO University  \n",
      "6                            Đại học Bách Khoa Hà Nội  \n",
      "7                            Đại học Bách Khoa Hà Nội  \n",
      "8         Đại học Công nghệ - Đại học Quốc gia Hà Nội  \n",
      "9   Đại học Công nghệ Thông tin – Đại học Quốc gia...  \n",
      "10                           Đại học Bách Khoa Hà Nội  \n",
      "11                           Đại học Bách Khoa Hà Nội  \n",
      "12                                    ITMO University  \n",
      "13                           Đại học Bách Khoa Hà Nội  \n",
      "14                           Đại học Bách Khoa Hà Nội  \n",
      "15                           Đại học Bách Khoa Hà Nội  \n",
      "16                           Đại học Bách Khoa Hà Nội  \n",
      "17        Đại học Công nghệ - Đại học Quốc gia Hà Nội  \n",
      "18        Đại học Công nghệ - Đại học Quốc gia Hà Nội  \n",
      "19            Học viện Công Nghệ Bưu Chính Viễn Thông  \n",
      "20                           Đại học Bách Khoa Hà Nội  \n",
      "21                                      VinUniversity  \n",
      "22                                    ITMO University  \n",
      "23                           Đại học Bách Khoa Hà Nội  \n",
      "24                                    ITMO University  \n",
      "25                           Đại học Bách Khoa Hà Nội  \n",
      "26        Đại học Công nghệ - Đại học Quốc gia Hà Nội  \n",
      "27                                    ITMO University  \n",
      "28            Học viện Công Nghệ Bưu Chính Viễn Thông  \n",
      "29        Đại học Công nghệ - Đại học Quốc gia Hà Nội  \n",
      "30            Học viện Công Nghệ Bưu Chính Viễn Thông  \n",
      "31        Đại học Công nghệ - Đại học Quốc gia Hà Nội  \n",
      "32                           Đại học Bách Khoa Hà Nội  \n",
      "33                           Đại học Bách Khoa Hà Nội  \n",
      "34                           Đại học Bách Khoa Hà Nội  \n",
      "35                           Đại học Bách Khoa Hà Nội  \n",
      "36        Đại học Công nghệ - Đại học Quốc gia Hà Nội  \n",
      "37                                    ITMO University  \n",
      "38                                    ITMO University  \n",
      "39            Học viện Công Nghệ Bưu Chính Viễn Thông  \n",
      "40                                    ITMO University  \n",
      "41            Học viện Công Nghệ Bưu Chính Viễn Thông  \n"
     ]
    }
   ],
   "source": [
    "print(df)"
   ]
  },
  {
   "cell_type": "code",
   "execution_count": 22,
   "metadata": {},
   "outputs": [],
   "source": [
    "df.columns = [\"name\", \"gender\", \"university\"] "
   ]
  },
  {
   "cell_type": "code",
   "execution_count": 23,
   "metadata": {},
   "outputs": [
    {
     "name": "stdout",
     "output_type": "stream",
     "text": [
      "               name gender                                   university\n",
      "0  Lê Minh Việt Anh    Nam                     Đại học Bách Khoa Hà Nội\n",
      "1   Phạm Quang Bách    Nam                                VinUniversity\n",
      "2      Hoàng Bá Bảo    Nam                     Đại học Bách Khoa Hà Nội\n",
      "3   Phạm Minh Cường    Nam  Đại học Công nghệ - Đại học Quốc gia Hà Nội\n",
      "4     Trương Văn Độ    Nam  Đại học Công nghệ - Đại học Quốc gia Hà Nội\n"
     ]
    }
   ],
   "source": [
    "print(df.head())"
   ]
  },
  {
   "cell_type": "code",
   "execution_count": 24,
   "metadata": {},
   "outputs": [],
   "source": [
    "df.to_csv('vdt_list_cleaned.csv', index=False)"
   ]
  }
 ],
 "metadata": {
  "kernelspec": {
   "display_name": "airflow",
   "language": "python",
   "name": "python3"
  },
  "language_info": {
   "codemirror_mode": {
    "name": "ipython",
    "version": 3
   },
   "file_extension": ".py",
   "mimetype": "text/x-python",
   "name": "python",
   "nbconvert_exporter": "python",
   "pygments_lexer": "ipython3",
   "version": "3.10.14"
  }
 },
 "nbformat": 4,
 "nbformat_minor": 2
}
